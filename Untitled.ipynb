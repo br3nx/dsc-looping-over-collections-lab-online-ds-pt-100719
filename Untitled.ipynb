{
 "cells": [
  {
   "cell_type": "code",
   "execution_count": 33,
   "metadata": {},
   "outputs": [],
   "source": [
    "items = ['cheese', 'whole milk', 'kefir', 'tofu four-pack', 'kale', 'oranges', 'ham', \"ben & jerry's\"]\n",
    "costs = [2.79, 3.42, 4.50, 12.00, 2.75, 3.64, 25.00, 5.29]"
   ]
  },
  {
   "cell_type": "code",
   "execution_count": 20,
   "metadata": {
    "scrolled": true
   },
   "outputs": [
    {
     "name": "stdout",
     "output_type": "stream",
     "text": [
      "I need to buy cheese \n",
      "\n",
      "I need to buy whole milk \n",
      "\n",
      "I need to buy kefir \n",
      "\n",
      "I need to buy tofu four-pack \n",
      "\n",
      "I need to buy kale \n",
      "\n",
      "I need to buy oranges \n",
      "\n",
      "I need to buy ham \n",
      "\n",
      "I need to buy ben & jerry's \n",
      "\n"
     ]
    }
   ],
   "source": [
    "for item in items:\n",
    "    print (\"I need to buy\" +\" \" + item, \"\\n\")"
   ]
  },
  {
   "cell_type": "code",
   "execution_count": 31,
   "metadata": {},
   "outputs": [
    {
     "name": "stdout",
     "output_type": "stream",
     "text": [
      "I needcheese\n",
      "I needwhole milk\n",
      "I needkefir\n",
      "I needtofu four-pack\n",
      "I needkale\n",
      "I needoranges\n",
      "I needham\n",
      "I needben & jerry's\n"
     ]
    }
   ],
   "source": [
    "for item in items:\n",
    "    print (\"I need\" + f'{item}')"
   ]
  },
  {
   "cell_type": "code",
   "execution_count": 35,
   "metadata": {},
   "outputs": [
    {
     "name": "stdout",
     "output_type": "stream",
     "text": [
      "I needcheese,It costs2.79\n",
      "I needwhole milk,It costs3.42\n",
      "I needkefir,It costs4.5\n",
      "I needtofu four-pack,It costs12.0\n",
      "I needkale,It costs2.75\n",
      "I needoranges,It costs3.64\n",
      "I needham,It costs25.0\n",
      "I needben & jerry's,It costs5.29\n"
     ]
    }
   ],
   "source": [
    "for item,cost in zip(items, costs):\n",
    "    print (\"I need\" + f'{item}' + \",\" + \"It costs\" + f'{cost}')"
   ]
  },
  {
   "cell_type": "code",
   "execution_count": null,
   "metadata": {},
   "outputs": [],
   "source": [
    "for item, cost in zip(items, cost):\n",
    "    print ()"
   ]
  },
  {
   "cell_type": "code",
   "execution_count": 36,
   "metadata": {},
   "outputs": [],
   "source": [
    "my_list = range(0,12)"
   ]
  },
  {
   "cell_type": "code",
   "execution_count": 37,
   "metadata": {},
   "outputs": [],
   "source": [
    "def multiply( number = 1):\n",
    "    return number * 5"
   ]
  },
  {
   "cell_type": "code",
   "execution_count": 38,
   "metadata": {},
   "outputs": [
    {
     "data": {
      "text/plain": [
       "5"
      ]
     },
     "execution_count": 38,
     "metadata": {},
     "output_type": "execute_result"
    }
   ],
   "source": [
    "multiply()"
   ]
  },
  {
   "cell_type": "code",
   "execution_count": 39,
   "metadata": {},
   "outputs": [],
   "source": [
    "for number in my_list:\n",
    "    multiply(number)"
   ]
  },
  {
   "cell_type": "code",
   "execution_count": null,
   "metadata": {},
   "outputs": [],
   "source": []
  }
 ],
 "metadata": {
  "kernelspec": {
   "display_name": "learn-env",
   "language": "python",
   "name": "learn-env"
  },
  "language_info": {
   "codemirror_mode": {
    "name": "ipython",
    "version": 3
   },
   "file_extension": ".py",
   "mimetype": "text/x-python",
   "name": "python",
   "nbconvert_exporter": "python",
   "pygments_lexer": "ipython3",
   "version": "3.6.6"
  }
 },
 "nbformat": 4,
 "nbformat_minor": 2
}
